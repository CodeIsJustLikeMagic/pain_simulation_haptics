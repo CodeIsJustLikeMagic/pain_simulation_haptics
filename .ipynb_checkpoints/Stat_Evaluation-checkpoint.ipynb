{
 "cells": [
  {
   "cell_type": "code",
   "execution_count": 1,
   "id": "experimental-explorer",
   "metadata": {},
   "outputs": [],
   "source": [
    "import pandas as pd\n",
    "import os\n",
    "import numpy as np\n",
    "import matplotlib.pyplot as plt\n",
    "import matplotlib.colors\n",
    "import matplotlib.patches as mpatches\n",
    "from datetime import datetime"
   ]
  },
  {
   "cell_type": "code",
   "execution_count": 4,
   "id": "altered-circus",
   "metadata": {},
   "outputs": [
    {
     "name": "stdout",
     "output_type": "stream",
     "text": [
      "['test_profile1_07_27_22__20_19.csv']\n"
     ]
    }
   ],
   "source": [
    "mypath = r\"Stats\"\n",
    "onlyfiles = [f for f in os.listdir(mypath) if os.path.isfile(os.path.join(mypath, f))]"
   ]
  },
  {
   "cell_type": "code",
   "execution_count": 6,
   "id": "worst-compatibility",
   "metadata": {},
   "outputs": [
    {
     "data": {
      "text/html": [
       "<div>\n",
       "<style scoped>\n",
       "    .dataframe tbody tr th:only-of-type {\n",
       "        vertical-align: middle;\n",
       "    }\n",
       "\n",
       "    .dataframe tbody tr th {\n",
       "        vertical-align: top;\n",
       "    }\n",
       "\n",
       "    .dataframe thead th {\n",
       "        text-align: right;\n",
       "    }\n",
       "</style>\n",
       "<table border=\"1\" class=\"dataframe\">\n",
       "  <thead>\n",
       "    <tr style=\"text-align: right;\">\n",
       "      <th></th>\n",
       "      <th>Unnamed: 0</th>\n",
       "      <th>Player</th>\n",
       "      <th>Profile</th>\n",
       "      <th>Time</th>\n",
       "      <th>Event</th>\n",
       "    </tr>\n",
       "  </thead>\n",
       "  <tbody>\n",
       "    <tr>\n",
       "      <th>0</th>\n",
       "      <td>0</td>\n",
       "      <td>test</td>\n",
       "      <td>profile1</td>\n",
       "      <td>2022-07-27 20:19:17.647464</td>\n",
       "      <td>LevelLoad</td>\n",
       "    </tr>\n",
       "    <tr>\n",
       "      <th>1</th>\n",
       "      <td>1</td>\n",
       "      <td>test</td>\n",
       "      <td>profile1</td>\n",
       "      <td>2022-07-27 20:19:17.648465</td>\n",
       "      <td>killed an enemy</td>\n",
       "    </tr>\n",
       "    <tr>\n",
       "      <th>2</th>\n",
       "      <td>2</td>\n",
       "      <td>test</td>\n",
       "      <td>profile1</td>\n",
       "      <td>2022-07-27 20:19:25.221293</td>\n",
       "      <td>killed an enemy</td>\n",
       "    </tr>\n",
       "    <tr>\n",
       "      <th>3</th>\n",
       "      <td>3</td>\n",
       "      <td>test</td>\n",
       "      <td>profile1</td>\n",
       "      <td>2022-07-27 20:19:25.252299</td>\n",
       "      <td>shielded hit</td>\n",
       "    </tr>\n",
       "    <tr>\n",
       "      <th>4</th>\n",
       "      <td>4</td>\n",
       "      <td>test</td>\n",
       "      <td>profile1</td>\n",
       "      <td>2022-07-27 20:19:26.532588</td>\n",
       "      <td>shielded hit</td>\n",
       "    </tr>\n",
       "    <tr>\n",
       "      <th>...</th>\n",
       "      <td>...</td>\n",
       "      <td>...</td>\n",
       "      <td>...</td>\n",
       "      <td>...</td>\n",
       "      <td>...</td>\n",
       "    </tr>\n",
       "    <tr>\n",
       "      <th>87</th>\n",
       "      <td>87</td>\n",
       "      <td>test</td>\n",
       "      <td>profile1</td>\n",
       "      <td>2022-07-27 20:22:29.183816</td>\n",
       "      <td>unshielded hit</td>\n",
       "    </tr>\n",
       "    <tr>\n",
       "      <th>88</th>\n",
       "      <td>88</td>\n",
       "      <td>test</td>\n",
       "      <td>profile1</td>\n",
       "      <td>2022-07-27 20:22:29.841965</td>\n",
       "      <td>unshielded hit</td>\n",
       "    </tr>\n",
       "    <tr>\n",
       "      <th>89</th>\n",
       "      <td>89</td>\n",
       "      <td>test</td>\n",
       "      <td>profile1</td>\n",
       "      <td>2022-07-27 20:22:30.342077</td>\n",
       "      <td>unshielded hit</td>\n",
       "    </tr>\n",
       "    <tr>\n",
       "      <th>90</th>\n",
       "      <td>90</td>\n",
       "      <td>test</td>\n",
       "      <td>profile1</td>\n",
       "      <td>2022-07-27 20:22:30.346079</td>\n",
       "      <td>downed</td>\n",
       "    </tr>\n",
       "    <tr>\n",
       "      <th>91</th>\n",
       "      <td>91</td>\n",
       "      <td>test</td>\n",
       "      <td>profile1</td>\n",
       "      <td>2022-07-27 20:22:36.284437</td>\n",
       "      <td>LevelQuit</td>\n",
       "    </tr>\n",
       "  </tbody>\n",
       "</table>\n",
       "<p>92 rows × 5 columns</p>\n",
       "</div>"
      ],
      "text/plain": [
       "    Unnamed: 0 Player   Profile                        Time            Event\n",
       "0            0   test  profile1  2022-07-27 20:19:17.647464        LevelLoad\n",
       "1            1   test  profile1  2022-07-27 20:19:17.648465  killed an enemy\n",
       "2            2   test  profile1  2022-07-27 20:19:25.221293  killed an enemy\n",
       "3            3   test  profile1  2022-07-27 20:19:25.252299     shielded hit\n",
       "4            4   test  profile1  2022-07-27 20:19:26.532588     shielded hit\n",
       "..         ...    ...       ...                         ...              ...\n",
       "87          87   test  profile1  2022-07-27 20:22:29.183816   unshielded hit\n",
       "88          88   test  profile1  2022-07-27 20:22:29.841965   unshielded hit\n",
       "89          89   test  profile1  2022-07-27 20:22:30.342077   unshielded hit\n",
       "90          90   test  profile1  2022-07-27 20:22:30.346079           downed\n",
       "91          91   test  profile1  2022-07-27 20:22:36.284437        LevelQuit\n",
       "\n",
       "[92 rows x 5 columns]"
      ]
     },
     "execution_count": 6,
     "metadata": {},
     "output_type": "execute_result"
    }
   ],
   "source": [
    "df = pd.read_csv(os.path.join(mypath, onlyfiles[0]))\n",
    "df"
   ]
  },
  {
   "cell_type": "code",
   "execution_count": 37,
   "id": "suited-medication",
   "metadata": {},
   "outputs": [
    {
     "data": {
      "text/plain": [
       "Text(0.5, 0, 'Time')"
      ]
     },
     "execution_count": 37,
     "metadata": {},
     "output_type": "execute_result"
    },
    {
     "data": {
      "image/png": "[encoded data removed]",
      "text/plain": [
       "<Figure size 720x720 with 1 Axes>"
      ]
     },
     "metadata": {
      "needs_background": "light"
     },
     "output_type": "display_data"
    }
   ],
   "source": [
    "df_events = df[\"Event\"]\n",
    "\n",
    "df_deaths_enemy = df.loc[df[\"Event\"].str.contains(\"killed an enemy\", case = False)]\n",
    "\n",
    "t = np.array(df_deaths_enemy[\"Time\"], )\n",
    "t = t.astype(datetime)\n",
    "\n",
    "t = np.array([datetime.strptime(my_date_string, '%Y-%m-%d %H:%M:%S.%f') for my_date_string in t])\n",
    "\n",
    "start_time = t[0]\n",
    "t = t - start_time\n",
    "\n",
    "t = np.array([int(timesince.total_seconds()) for timesince in t]) \n",
    "\n",
    "\n",
    "fig, ax=plt.subplots(figsize=(10,10))\n",
    "\n",
    "ax.scatter(t, np.arange(1,len(df_deaths_enemy[\"Time\"])+1), label=\"Enemies killed\", linewidth=2.0, color='darkorange')\n",
    "#ax.plot(x,y, linewidth=10.0, color='black', label=\"Average\", zorder=2)\n",
    "ax.set_ylabel(f\"deaths\", fontsize=25)\n",
    "ax.set_xlabel(f\"Time\", fontsize=25)"
   ]
  },
  {
   "cell_type": "code",
   "execution_count": null,
   "id": "pending-metadata",
   "metadata": {},
   "outputs": [],
   "source": []
  }
 ],
 "metadata": {
  "kernelspec": {
   "display_name": "Python 3",
   "language": "python",
   "name": "python3"
  },
  "language_info": {
   "codemirror_mode": {
    "name": "ipython",
    "version": 3
   },
   "file_extension": ".py",
   "mimetype": "text/x-python",
   "name": "python",
   "nbconvert_exporter": "python",
   "pygments_lexer": "ipython3",
   "version": "3.9.2"
  }
 },
 "nbformat": 4,
 "nbformat_minor": 5
}
