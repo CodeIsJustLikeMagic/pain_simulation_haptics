{
 "cells": [
  {
   "cell_type": "code",
   "execution_count": 1,
   "id": "forward-faculty",
   "metadata": {},
   "outputs": [],
   "source": [
    "import pandas as pd\n",
    "import os\n",
    "import numpy as np\n",
    "import matplotlib.pyplot as plt\n",
    "import matplotlib.colors\n",
    "import matplotlib.patches as mpatches\n",
    "from datetime import datetime"
   ]
  },
  {
   "cell_type": "code",
   "execution_count": 2,
   "id": "growing-printer",
   "metadata": {},
   "outputs": [],
   "source": [
    "mypath = r\"Stats\"\n",
    "onlyfiles = [f for f in os.listdir(mypath) if os.path.isfile(os.path.join(mypath, f))]"
   ]
  },
  {
   "cell_type": "code",
   "execution_count": 11,
   "id": "objective-journey",
   "metadata": {},
   "outputs": [
    {
     "data": {
      "text/html": [
       "<div>\n",
       "<style scoped>\n",
       "    .dataframe tbody tr th:only-of-type {\n",
       "        vertical-align: middle;\n",
       "    }\n",
       "\n",
       "    .dataframe tbody tr th {\n",
       "        vertical-align: top;\n",
       "    }\n",
       "\n",
       "    .dataframe thead th {\n",
       "        text-align: right;\n",
       "    }\n",
       "</style>\n",
       "<table border=\"1\" class=\"dataframe\">\n",
       "  <thead>\n",
       "    <tr style=\"text-align: right;\">\n",
       "      <th></th>\n",
       "      <th>Unnamed: 0</th>\n",
       "      <th>Player</th>\n",
       "      <th>Profile</th>\n",
       "      <th>Time</th>\n",
       "      <th>Event</th>\n",
       "      <th>GameTime</th>\n",
       "    </tr>\n",
       "  </thead>\n",
       "  <tbody>\n",
       "    <tr>\n",
       "      <th>0</th>\n",
       "      <td>0</td>\n",
       "      <td>test</td>\n",
       "      <td>profile1</td>\n",
       "      <td>2022-08-01 16:36:16.497097</td>\n",
       "      <td>LevelLoad</td>\n",
       "      <td>0</td>\n",
       "    </tr>\n",
       "    <tr>\n",
       "      <th>1</th>\n",
       "      <td>1</td>\n",
       "      <td>test</td>\n",
       "      <td>profile1</td>\n",
       "      <td>2022-08-01 16:36:16.498097</td>\n",
       "      <td>killed an enemy</td>\n",
       "      <td>0</td>\n",
       "    </tr>\n",
       "    <tr>\n",
       "      <th>2</th>\n",
       "      <td>2</td>\n",
       "      <td>test</td>\n",
       "      <td>profile1</td>\n",
       "      <td>2022-08-01 16:36:35.296252</td>\n",
       "      <td>hp 460</td>\n",
       "      <td>18</td>\n",
       "    </tr>\n",
       "    <tr>\n",
       "      <th>3</th>\n",
       "      <td>3</td>\n",
       "      <td>test</td>\n",
       "      <td>profile1</td>\n",
       "      <td>2022-08-01 16:36:35.299253</td>\n",
       "      <td>armor 26</td>\n",
       "      <td>18</td>\n",
       "    </tr>\n",
       "    <tr>\n",
       "      <th>4</th>\n",
       "      <td>4</td>\n",
       "      <td>test</td>\n",
       "      <td>profile1</td>\n",
       "      <td>2022-08-01 16:36:35.301768</td>\n",
       "      <td>killed an enemy</td>\n",
       "      <td>18</td>\n",
       "    </tr>\n",
       "    <tr>\n",
       "      <th>...</th>\n",
       "      <td>...</td>\n",
       "      <td>...</td>\n",
       "      <td>...</td>\n",
       "      <td>...</td>\n",
       "      <td>...</td>\n",
       "      <td>...</td>\n",
       "    </tr>\n",
       "    <tr>\n",
       "      <th>305</th>\n",
       "      <td>305</td>\n",
       "      <td>test</td>\n",
       "      <td>profile1</td>\n",
       "      <td>2022-08-01 16:37:28.351576</td>\n",
       "      <td>auto regenerate armor</td>\n",
       "      <td>71</td>\n",
       "    </tr>\n",
       "    <tr>\n",
       "      <th>306</th>\n",
       "      <td>306</td>\n",
       "      <td>test</td>\n",
       "      <td>profile1</td>\n",
       "      <td>2022-08-01 16:37:32.682712</td>\n",
       "      <td>hp 460</td>\n",
       "      <td>76</td>\n",
       "    </tr>\n",
       "    <tr>\n",
       "      <th>307</th>\n",
       "      <td>307</td>\n",
       "      <td>test</td>\n",
       "      <td>profile1</td>\n",
       "      <td>2022-08-01 16:37:32.683711</td>\n",
       "      <td>armor 26</td>\n",
       "      <td>76</td>\n",
       "    </tr>\n",
       "    <tr>\n",
       "      <th>308</th>\n",
       "      <td>308</td>\n",
       "      <td>test</td>\n",
       "      <td>profile1</td>\n",
       "      <td>2022-08-01 16:37:32.686712</td>\n",
       "      <td>auto regenerate armor</td>\n",
       "      <td>76</td>\n",
       "    </tr>\n",
       "    <tr>\n",
       "      <th>309</th>\n",
       "      <td>309</td>\n",
       "      <td>test</td>\n",
       "      <td>profile1</td>\n",
       "      <td>2022-08-01 16:37:43.748135</td>\n",
       "      <td>LevelQuit</td>\n",
       "      <td>87</td>\n",
       "    </tr>\n",
       "  </tbody>\n",
       "</table>\n",
       "<p>310 rows × 6 columns</p>\n",
       "</div>"
      ],
      "text/plain": [
       "     Unnamed: 0 Player   Profile                        Time  \\\n",
       "0             0   test  profile1  2022-08-01 16:36:16.497097   \n",
       "1             1   test  profile1  2022-08-01 16:36:16.498097   \n",
       "2             2   test  profile1  2022-08-01 16:36:35.296252   \n",
       "3             3   test  profile1  2022-08-01 16:36:35.299253   \n",
       "4             4   test  profile1  2022-08-01 16:36:35.301768   \n",
       "..          ...    ...       ...                         ...   \n",
       "305         305   test  profile1  2022-08-01 16:37:28.351576   \n",
       "306         306   test  profile1  2022-08-01 16:37:32.682712   \n",
       "307         307   test  profile1  2022-08-01 16:37:32.683711   \n",
       "308         308   test  profile1  2022-08-01 16:37:32.686712   \n",
       "309         309   test  profile1  2022-08-01 16:37:43.748135   \n",
       "\n",
       "                     Event  GameTime  \n",
       "0                LevelLoad         0  \n",
       "1          killed an enemy         0  \n",
       "2                   hp 460        18  \n",
       "3                 armor 26        18  \n",
       "4          killed an enemy        18  \n",
       "..                     ...       ...  \n",
       "305  auto regenerate armor        71  \n",
       "306                 hp 460        76  \n",
       "307               armor 26        76  \n",
       "308  auto regenerate armor        76  \n",
       "309              LevelQuit        87  \n",
       "\n",
       "[310 rows x 6 columns]"
      ]
     },
     "execution_count": 11,
     "metadata": {},
     "output_type": "execute_result"
    }
   ],
   "source": [
    "df = pd.read_csv(os.path.join(mypath, onlyfiles[0]))\n",
    "\n",
    "#preprocess gametime\n",
    "\n",
    "t = np.array(df[\"Time\"], )\n",
    "t = t.astype(datetime)\n",
    "\n",
    "t = np.array([datetime.strptime(my_date_string, '%Y-%m-%d %H:%M:%S.%f') for my_date_string in t])\n",
    "\n",
    "start_time = t[0]\n",
    "t = t - start_time\n",
    "\n",
    "t = np.array([int(timesince.total_seconds()) for timesince in t]) \n",
    "df[\"GameTime\"] = t\n",
    "df"
   ]
  },
  {
   "cell_type": "code",
   "execution_count": 12,
   "id": "composed-aaron",
   "metadata": {},
   "outputs": [
    {
     "name": "stdout",
     "output_type": "stream",
     "text": [
      "enemies killed 18\n"
     ]
    },
    {
     "data": {
      "text/plain": [
       "Text(0.5, 0, 'Time')"
      ]
     },
     "execution_count": 12,
     "metadata": {},
     "output_type": "execute_result"
    },
    {
     "data": {
      "image/png": "[encoded data removed]",
      "text/plain": [
       "<Figure size 1080x720 with 1 Axes>"
      ]
     },
     "metadata": {
      "needs_background": "light"
     },
     "output_type": "display_data"
    }
   ],
   "source": [
    "fig, ax=plt.subplots(figsize=(15,10))\n",
    "\n",
    "#killed enemies\n",
    "df_deaths_enemy = df.loc[df[\"Event\"].str.contains(\"killed an enemy\", case = False)]\n",
    "#ax.scatter(df_deaths_enemy[\"GameTime\"], np.arange(1,len(df_deaths_enemy[\"Time\"])+1), label=\"Enemies killed\", linewidth=2.0, color='black')\n",
    "\n",
    "\n",
    "print(f\"enemies killed\", len(df_deaths_enemy[\"GameTime\"]))\n",
    "\n",
    "# player hp\n",
    "df_hp = df.loc[df[\"Event\"].str.contains(\"hp\", case = False)]\n",
    "hp = np.array([int(ev.replace(\"hp \",\"\")) for ev in df_hp[\"Event\"]])\n",
    "hp_max = np.max(hp)\n",
    "hp = hp/hp_max\n",
    "ax.plot(df_hp[\"GameTime\"], hp, label=\"hp\", linewidth=4.0, color='orange')\n",
    "\n",
    "# player armor\n",
    "df_hp = df.loc[df[\"Event\"].str.contains(\"armor\", case = False)]\n",
    "df_hp = df_hp.loc[~df_hp[\"Event\"].str.contains(\"regenerate armor\", case = False)]\n",
    "armor = np.array([int(ev.replace(\"armor \",\"\")) for ev in df_hp[\"Event\"]])\n",
    "armor_max = np.max(armor)\n",
    "ax.plot(df_hp[\"GameTime\"], armor/armor_max, label=\"armor\", linewidth=4.0, color='blue')\n",
    "\n",
    "\n",
    "#ax.plot(x,y, linewidth=10.0, color='black', label=\"Average\", zorder=2)\n",
    "ax.set_ylabel(f\"hp\", fontsize=25)\n",
    "ax.set_xlabel(f\"Time\", fontsize=25)"
   ]
  },
  {
   "cell_type": "code",
   "execution_count": 13,
   "id": "contemporary-baking",
   "metadata": {},
   "outputs": [
    {
     "name": "stdout",
     "output_type": "stream",
     "text": [
      "enemy_damaged 0\n",
      "killed an enemy 18\n",
      "shielded hit 19\n",
      "unshielded hit 8\n",
      "auto regenerate armor 6\n"
     ]
    }
   ],
   "source": [
    "events= (\"enemy_hit\", \"enemy_headshot\", \"enemy_crit\", \"killed an enemy\", \"shielded hit\", \"unshielded hit\", \"auto regenerate armor\")\n",
    "\n",
    "for e in events:\n",
    "    df_event = df.loc[df[\"Event\"]==e]\n",
    "    print(e, len(df_event))"
   ]
  },
  {
   "cell_type": "code",
   "execution_count": 14,
   "id": "official-oracle",
   "metadata": {},
   "outputs": [],
   "source": [
    "#player take damage\n",
    "df_deaths_enemy = df.loc[df[\"Event\"]==\"shielded hit\"]\n",
    "for t in df_deaths_enemy[\"GameTime\"]:\n",
    "    ax.axvline(x=t, color = \"blue\")\n",
    "#ax.scatter(df_deaths_enemy[\"GameTime\"], np.arange(1,len(df_deaths_enemy[\"Time\"])+1), label=\"Enemies killed\", linewidth=2.0, color='blue')\n",
    "\n",
    "df_deaths_enemy = df.loc[df[\"Event\"]==\"unshielded hit\"]\n",
    "for t in df_deaths_enemy[\"GameTime\"]:\n",
    "    ax.axvline(x=t, color = \"orange\")\n",
    "#ax.scatter(df_deaths_enemy[\"GameTime\"], np.arange(1,len(df_deaths_enemy[\"Time\"])+1), label=\"Enemies killed\", linewidth=2.0, color='orange')\n",
    "\n",
    "df_deaths_enemy = df.loc[df[\"Event\"]==\"auto regenerate armor\"]\n",
    "for t in df_deaths_enemy[\"GameTime\"]:\n",
    "    ax.axvline(x=t,color = \"lightblue\")\n",
    "#ax.scatter(df_deaths_enemy[\"GameTime\"], np.arange(1,len(df_deaths_enemy[\"Time\"])+1), label=\"Enemies killed\", linewidth=2.0, color='blue')\n",
    "\n",
    "df_deaths_enemy = df.loc[df[\"Event\"]==\"revived by ally\"]\n",
    "for t in df_deaths_enemy[\"GameTime\"]:\n",
    "    ax.axvline(x=t,color = \"lightblue\")\n",
    "#ax.scatter(df_deaths_enemy[\"GameTime\"], np.arange(1,len(df_deaths_enemy[\"Time\"])+1), label=\"Enemies killed\", linewidth=2.0, color='lightblue')\n",
    "\n",
    "df_deaths_enemy = df.loc[df[\"Event\"]==\"downed\"]\n",
    "for t in df_deaths_enemy[\"GameTime\"]:\n",
    "    ax.axvline(x=t, color = \"black\")\n",
    "#ax.scatter(df_deaths_enemy[\"GameTime\"], np.arange(1,len(df_deaths_enemy[\"Time\"])+1), label=\"Enemies killed\", linewidth=2.0, color='black')"
   ]
  },
  {
   "cell_type": "code",
   "execution_count": null,
   "id": "continuous-norfolk",
   "metadata": {},
   "outputs": [],
   "source": []
  }
 ],
 "metadata": {
  "kernelspec": {
   "display_name": "Python 3",
   "language": "python",
   "name": "python3"
  },
  "language_info": {
   "codemirror_mode": {
    "name": "ipython",
    "version": 3
   },
   "file_extension": ".py",
   "mimetype": "text/x-python",
   "name": "python",
   "nbconvert_exporter": "python",
   "pygments_lexer": "ipython3",
   "version": "3.9.2"
  }
 },
 "nbformat": 4,
 "nbformat_minor": 5
}
