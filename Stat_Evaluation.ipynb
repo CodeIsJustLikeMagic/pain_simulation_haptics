{
 "cells": [
  {
   "cell_type": "code",
   "execution_count": 1,
   "id": "welcome-orleans",
   "metadata": {},
   "outputs": [],
   "source": [
    "import pandas as pd\n",
    "import os\n",
    "import numpy as np\n",
    "import matplotlib.pyplot as plt\n",
    "import matplotlib.colors\n",
    "import matplotlib.patches as mpatches\n",
    "from datetime import datetime"
   ]
  },
  {
   "cell_type": "code",
   "execution_count": 34,
   "id": "uniform-lodging",
   "metadata": {},
   "outputs": [
    {
     "name": "stdout",
     "output_type": "stream",
     "text": [
      "['ekjlk_Profile5_22_10_04__01_35.csv', 'firstPrototype_profile0_22_08_23__17_24.csv', 'firstprototype_profile2_22_08_23__17_18.csv', 'icetest_Profile0_22_10_06__17_44.csv', 'icetest_Profile1_22_10_06__17_44.csv', 'icetest_Profile2_22_10_06__00_45.csv', 'icetest_Profile2_22_10_06__01_38.csv', 'icetest_Profile2_22_10_06__16_56.csv', 'icetest_Profile2_22_10_06__17_04.csv', 'icetest_Profile2_22_10_06__17_21.csv', 'icetest_Profile2_22_10_06__17_43.csv', 'icetest_Profile2_22_10_06__17_44.csv', 'icetest_Profile2_22_10_06__17_56.csv', 'icetest_Profile2_22_10_07__00_44.csv', 'icetest_Profile2_22_10_07__01_08.csv', 'icetest_Profile2_22_10_07__01_51.csv', 'icetest_Profile3_22_10_06__00_36.csv', 'icetest_Profile3_22_10_06__00_41.csv', 'icetest_Profile3_22_10_06__00_43.csv', 'icetest_Profile3_22_10_06__00_45.csv', 'icetest_Profile3_22_10_06__01_34.csv', 'icetest_Profile3_22_10_06__16_36.csv', 'icetest_Profile3_22_10_06__16_56.csv', 'icetest_Profile3_22_10_06__17_44.csv', 'icetest_Profile4_22_10_06__00_35.csv', 'icetest_Profile4_22_10_06__00_42.csv', 'icetest_Profile4_22_10_06__00_45.csv', 'icetest_Profile4_22_10_06__01_36.csv', 'icetest_Profile4_22_10_06__16_35.csv', 'icetest_Profile5_22_10_06__00_30.csv', 'icetest_Profile5_22_10_06__00_33.csv', 'icetest_Profile5_22_10_06__00_35.csv', 'icetest_Profile6_22_10_06__00_31.csv', 'icetest_Profile6_22_10_06__00_34.csv', 'Player1_Profile2_22_09_13__02_21.csv', 'Player1_Profile2_22_09_13__02_41.csv', 'Player1_Profile3_22_09_13__02_03.csv', 'Player1_Profile3_22_09_13__03_43.csv', 'Player1_Profile3_22_09_29__18_36.csv', 'Player1_Profile3_22_09_29__18_37.csv', 'Player1_Profile3_22_09_29__18_38.csv', 'Player1_Profile3_22_09_29__18_49.csv', 'Player1_Profile3_22_09_29__18_50.csv', 'Player1_Profile3_22_09_29__18_51.csv', 'Player1_Profile3_22_09_29__18_52.csv', 'Player1_Profile3_22_09_29__18_55.csv', 'Player1_Profile3_22_09_29__18_57.csv', 'Player1_Profile5_22_09_13__03_19.csv', 'Player1_Profile5_22_09_13__03_42.csv', 'Player1_Profile5_22_09_22__19_50.csv', 'Player1_Profile6_22_09_22__18_01.csv', 'Player1_Profile6_22_09_22__20_22.csv', 'Player1_Profile7_22_09_27__16_41.csv', 'Player1_Profile7_22_09_27__16_44.csv', 'Player1_ProfileScare_22_09_22__19_35.csv', 'test_profile1_01_08_22__16_36.csv', 'test_profile1_01_08_22__17_05.csv', 'test_profile1_01_08_22__17_28.csv', 'test_profile1_01_08_22__17_51.csv', 'test_profile1_01_08_22__18_04.csv', 'test_profile1_01_08_22__18_06.csv', 'test_profile1_01_08_22__18_12.csv', 'test_profile1_01_08_22__18_26.csv', 'test_profile1_22_08_11__16_13.csv', 'test_profile1_22_08_11__16_19.csv', 'test_profile1_22_08_11__16_36.csv', 'test_profile1_22_08_23__13_32.csv', 'test_profile1_22_08_23__13_35.csv', 'test_profile1_22_08_23__13_57.csv', 'test_profile1_22_08_23__14_16.csv', 'test_profile1_22_08_23__14_26.csv', 'test_profile1_22_08_23__16_33.csv', 'test_profile1_22_08_24__13_46.csv', 'unknown_unknown_22_09_13__02_02.csv', 'unknown_unknown_22_09_22__18_11.csv', 'unknown_unknown_22_09_29__16_59.csv', 'unknown_unknown_22_10_06__00_25.csv', 'unknown_unknown_22_10_06__16_35.csv', 'unknown_unknown_22_10_07__01_08.csv', 'unknown_unknown_22_10_07__01_50.csv']\n"
     ]
    }
   ],
   "source": [
    "mypath = r\"Stats\"\n",
    "onlyfiles = [f for f in os.listdir(mypath) if os.path.isfile(os.path.join(mypath, f))]\n",
    "\n",
    "#onlyfiles = [f for f in onlyfiles if \"icetest\" in f]\n",
    "print(onlyfiles)"
   ]
  },
  {
   "cell_type": "code",
   "execution_count": 35,
   "id": "portable-tiffany",
   "metadata": {},
   "outputs": [
    {
     "data": {
      "text/html": [
       "<div>\n",
       "<style scoped>\n",
       "    .dataframe tbody tr th:only-of-type {\n",
       "        vertical-align: middle;\n",
       "    }\n",
       "\n",
       "    .dataframe tbody tr th {\n",
       "        vertical-align: top;\n",
       "    }\n",
       "\n",
       "    .dataframe thead th {\n",
       "        text-align: right;\n",
       "    }\n",
       "</style>\n",
       "<table border=\"1\" class=\"dataframe\">\n",
       "  <thead>\n",
       "    <tr style=\"text-align: right;\">\n",
       "      <th></th>\n",
       "      <th>Unnamed: 0</th>\n",
       "      <th>Player</th>\n",
       "      <th>Profile</th>\n",
       "      <th>Time</th>\n",
       "      <th>Event</th>\n",
       "      <th>GameTime</th>\n",
       "    </tr>\n",
       "  </thead>\n",
       "  <tbody>\n",
       "    <tr>\n",
       "      <th>0</th>\n",
       "      <td>0</td>\n",
       "      <td>icetest</td>\n",
       "      <td>Profile2</td>\n",
       "      <td>2022-10-07 01:51:52.923598</td>\n",
       "      <td>hp 138</td>\n",
       "      <td>0</td>\n",
       "    </tr>\n",
       "    <tr>\n",
       "      <th>1</th>\n",
       "      <td>1</td>\n",
       "      <td>icetest</td>\n",
       "      <td>Profile2</td>\n",
       "      <td>2022-10-07 01:51:52.926599</td>\n",
       "      <td>armor 17</td>\n",
       "      <td>0</td>\n",
       "    </tr>\n",
       "    <tr>\n",
       "      <th>2</th>\n",
       "      <td>2</td>\n",
       "      <td>icetest</td>\n",
       "      <td>Profile2</td>\n",
       "      <td>2022-10-07 01:51:52.936601</td>\n",
       "      <td>hp 138</td>\n",
       "      <td>0</td>\n",
       "    </tr>\n",
       "    <tr>\n",
       "      <th>3</th>\n",
       "      <td>3</td>\n",
       "      <td>icetest</td>\n",
       "      <td>Profile2</td>\n",
       "      <td>2022-10-07 01:51:52.938602</td>\n",
       "      <td>armor 17</td>\n",
       "      <td>0</td>\n",
       "    </tr>\n",
       "    <tr>\n",
       "      <th>4</th>\n",
       "      <td>4</td>\n",
       "      <td>icetest</td>\n",
       "      <td>Profile2</td>\n",
       "      <td>2022-10-07 01:51:52.947604</td>\n",
       "      <td>hp 138</td>\n",
       "      <td>0</td>\n",
       "    </tr>\n",
       "    <tr>\n",
       "      <th>...</th>\n",
       "      <td>...</td>\n",
       "      <td>...</td>\n",
       "      <td>...</td>\n",
       "      <td>...</td>\n",
       "      <td>...</td>\n",
       "      <td>...</td>\n",
       "    </tr>\n",
       "    <tr>\n",
       "      <th>6299</th>\n",
       "      <td>6299</td>\n",
       "      <td>icetest</td>\n",
       "      <td>Profile2</td>\n",
       "      <td>2022-10-07 02:11:41.950968</td>\n",
       "      <td>Session_total_downed 2</td>\n",
       "      <td>1189</td>\n",
       "    </tr>\n",
       "    <tr>\n",
       "      <th>6300</th>\n",
       "      <td>6300</td>\n",
       "      <td>icetest</td>\n",
       "      <td>Profile2</td>\n",
       "      <td>2022-10-07 02:11:41.952968</td>\n",
       "      <td>Session_total_kills 291</td>\n",
       "      <td>1189</td>\n",
       "    </tr>\n",
       "    <tr>\n",
       "      <th>6301</th>\n",
       "      <td>6301</td>\n",
       "      <td>icetest</td>\n",
       "      <td>Profile2</td>\n",
       "      <td>2022-10-07 02:11:41.955969</td>\n",
       "      <td>Session_total_head_shots 68</td>\n",
       "      <td>1189</td>\n",
       "    </tr>\n",
       "    <tr>\n",
       "      <th>6302</th>\n",
       "      <td>6302</td>\n",
       "      <td>icetest</td>\n",
       "      <td>Profile2</td>\n",
       "      <td>2022-10-07 02:11:41.957970</td>\n",
       "      <td>Session_total_specials_kills 44</td>\n",
       "      <td>1189</td>\n",
       "    </tr>\n",
       "    <tr>\n",
       "      <th>6303</th>\n",
       "      <td>6303</td>\n",
       "      <td>icetest</td>\n",
       "      <td>Profile2</td>\n",
       "      <td>2022-10-07 02:11:41.960972</td>\n",
       "      <td>Session_civilians_killed 0</td>\n",
       "      <td>1189</td>\n",
       "    </tr>\n",
       "  </tbody>\n",
       "</table>\n",
       "<p>6304 rows × 6 columns</p>\n",
       "</div>"
      ],
      "text/plain": [
       "      Unnamed: 0   Player   Profile                        Time  \\\n",
       "0              0  icetest  Profile2  2022-10-07 01:51:52.923598   \n",
       "1              1  icetest  Profile2  2022-10-07 01:51:52.926599   \n",
       "2              2  icetest  Profile2  2022-10-07 01:51:52.936601   \n",
       "3              3  icetest  Profile2  2022-10-07 01:51:52.938602   \n",
       "4              4  icetest  Profile2  2022-10-07 01:51:52.947604   \n",
       "...          ...      ...       ...                         ...   \n",
       "6299        6299  icetest  Profile2  2022-10-07 02:11:41.950968   \n",
       "6300        6300  icetest  Profile2  2022-10-07 02:11:41.952968   \n",
       "6301        6301  icetest  Profile2  2022-10-07 02:11:41.955969   \n",
       "6302        6302  icetest  Profile2  2022-10-07 02:11:41.957970   \n",
       "6303        6303  icetest  Profile2  2022-10-07 02:11:41.960972   \n",
       "\n",
       "                                Event  GameTime  \n",
       "0                              hp 138         0  \n",
       "1                            armor 17         0  \n",
       "2                              hp 138         0  \n",
       "3                            armor 17         0  \n",
       "4                              hp 138         0  \n",
       "...                               ...       ...  \n",
       "6299           Session_total_downed 2      1189  \n",
       "6300          Session_total_kills 291      1189  \n",
       "6301      Session_total_head_shots 68      1189  \n",
       "6302  Session_total_specials_kills 44      1189  \n",
       "6303       Session_civilians_killed 0      1189  \n",
       "\n",
       "[6304 rows x 6 columns]"
      ]
     },
     "execution_count": 35,
     "metadata": {},
     "output_type": "execute_result"
    }
   ],
   "source": [
    "#df = pd.read_csv(os.path.join(mypath, onlyfiles[0]))\n",
    "df = pd.read_csv(os.path.join(mypath, \"icetest_Profile2_22_10_07__01_51.csv\"))\n",
    "#preprocess gametime\n",
    "\n",
    "t = np.array(df[\"Time\"], )\n",
    "t = t.astype(datetime)\n",
    "\n",
    "t = np.array([datetime.strptime(my_date_string, '%Y-%m-%d %H:%M:%S.%f') for my_date_string in t])\n",
    "\n",
    "start_time = t[0]\n",
    "t = t - start_time\n",
    "\n",
    "t = np.array([int(timesince.total_seconds()) for timesince in t]) \n",
    "df[\"GameTime\"] = t\n",
    "df"
   ]
  },
  {
   "cell_type": "code",
   "execution_count": 36,
   "id": "racial-bulletin",
   "metadata": {},
   "outputs": [
    {
     "name": "stdout",
     "output_type": "stream",
     "text": [
      "enemies killed 291\n"
     ]
    },
    {
     "data": {
      "text/plain": [
       "Text(0.5, 0, 'Time')"
      ]
     },
     "execution_count": 36,
     "metadata": {},
     "output_type": "execute_result"
    },
    {
     "data": {
      "image/png": "[encoded data removed]",
      "text/plain": [
       "<Figure size 1080x720 with 1 Axes>"
      ]
     },
     "metadata": {
      "needs_background": "light"
     },
     "output_type": "display_data"
    }
   ],
   "source": [
    "fig, ax=plt.subplots(figsize=(15,10))\n",
    "\n",
    "#killed enemies\n",
    "df_deaths_enemy = df.loc[df[\"Event\"].str.contains(\"killed an enemy\", case = False)]\n",
    "#ax.scatter(df_deaths_enemy[\"GameTime\"], np.arange(1,len(df_deaths_enemy[\"Time\"])+1), label=\"Enemies killed\", linewidth=2.0, color='black')\n",
    "\n",
    "\n",
    "print(f\"enemies killed\", len(df_deaths_enemy[\"GameTime\"]))\n",
    "\n",
    "# player hp\n",
    "df_hp = df.loc[df[\"Event\"].str.contains(\"hp\", case = False)]\n",
    "hp = np.array([int(ev.replace(\"hp \",\"\")) for ev in df_hp[\"Event\"]])\n",
    "hp_max = np.max(hp)\n",
    "hp = hp/hp_max\n",
    "ax.plot(df_hp[\"GameTime\"], hp, label=\"hp\", linewidth=4.0, color='orange')\n",
    "\n",
    "# player armor\n",
    "df_hp = df.loc[df[\"Event\"].str.contains(\"armor\", case = False)]\n",
    "df_hp = df_hp.loc[~df_hp[\"Event\"].str.contains(\"regenerate armor\", case = False)]\n",
    "armor = np.array([int(ev.replace(\"armor \",\"\")) for ev in df_hp[\"Event\"]])\n",
    "armor_max = np.max(armor)\n",
    "ax.plot(df_hp[\"GameTime\"], armor/armor_max, label=\"armor\", linewidth=4.0, color='blue')\n",
    "\n",
    "\n",
    "#ax.plot(x,y, linewidth=10.0, color='black', label=\"Average\", zorder=2)\n",
    "ax.set_ylabel(f\"hp\", fontsize=25)\n",
    "ax.set_xlabel(f\"Time\", fontsize=25)"
   ]
  },
  {
   "cell_type": "code",
   "execution_count": 39,
   "id": "later-authority",
   "metadata": {},
   "outputs": [
    {
     "name": "stdout",
     "output_type": "stream",
     "text": [
      "enemy_hit 0\n",
      "enemy_headshot 74\n",
      "enemy_crit 0\n",
      "killed an enemy 291\n",
      "shielded hit 261\n",
      "unshielded hit 20\n",
      "auto regenerate armor 86\n",
      "downed 2\n"
     ]
    }
   ],
   "source": [
    "events= (\"enemy_hit\", \"enemy_headshot\", \"enemy_crit\", \"killed an enemy\", \"shielded hit\", \"unshielded hit\", \"auto regenerate armor\", \"downed\")\n",
    "\n",
    "for e in events:\n",
    "    df_event = df.loc[df[\"Event\"]==e]\n",
    "    print(e, len(df_event))"
   ]
  },
  {
   "cell_type": "code",
   "execution_count": 30,
   "id": "latin-scope",
   "metadata": {},
   "outputs": [
    {
     "name": "stdout",
     "output_type": "stream",
     "text": [
      "revived by ally 5\n",
      "auto replenish health 0\n",
      "auto regenerate armor 98\n",
      "unshielded hit 7\n",
      "tased 4\n",
      "shielded hit 206\n",
      "complete_objective 0\n",
      "activate_objective 0\n"
     ]
    }
   ],
   "source": [
    "events= (\"revived by ally\", \"auto replenish health\", \"auto regenerate armor\", \"unshielded hit\", \"tased\", \"shielded hit\", \"complete_objective\", \"activate_objective\")\n",
    "\n",
    "for e in events:\n",
    "    df_event = df.loc[df[\"Event\"]==e]\n",
    "    print(e, len(df_event))"
   ]
  },
  {
   "cell_type": "code",
   "execution_count": 62,
   "id": "adolescent-northern",
   "metadata": {},
   "outputs": [
    {
     "name": "stdout",
     "output_type": "stream",
     "text": [
      "weapon_fired 1689\n",
      "hits 446\n",
      "accuracy is  0.2640615748963884\n"
     ]
    }
   ],
   "source": [
    "df_event = df.loc[df[\"Event\"].str.contains(\"weapon_fired\", case = False)]\n",
    "print(\"weapon_fired\", len(df_event))\n",
    "l = np.array(df_event[\"Event\"])\n",
    "l = np.array([st.split(\" \")[-1] for st in l], int).astype(int)\n",
    "print(\"hits\",l.sum())\n",
    "print(\"accuracy is \", l.sum()/len(df_event))\n"
   ]
  },
  {
   "cell_type": "code",
   "execution_count": 31,
   "id": "minimal-egypt",
   "metadata": {},
   "outputs": [],
   "source": [
    "#player take damage\n",
    "df_deaths_enemy = df.loc[df[\"Event\"]==\"shielded hit\"]\n",
    "for t in df_deaths_enemy[\"GameTime\"]:\n",
    "    ax.axvline(x=t, color = \"blue\")\n",
    "#ax.scatter(df_deaths_enemy[\"GameTime\"], np.arange(1,len(df_deaths_enemy[\"Time\"])+1), label=\"Enemies killed\", linewidth=2.0, color='blue')\n",
    "\n",
    "df_deaths_enemy = df.loc[df[\"Event\"]==\"unshielded hit\"]\n",
    "for t in df_deaths_enemy[\"GameTime\"]:\n",
    "    ax.axvline(x=t, color = \"orange\")\n",
    "#ax.scatter(df_deaths_enemy[\"GameTime\"], np.arange(1,len(df_deaths_enemy[\"Time\"])+1), label=\"Enemies killed\", linewidth=2.0, color='orange')\n",
    "\n",
    "df_deaths_enemy = df.loc[df[\"Event\"]==\"auto regenerate armor\"]\n",
    "for t in df_deaths_enemy[\"GameTime\"]:\n",
    "    ax.axvline(x=t,color = \"lightblue\")\n",
    "#ax.scatter(df_deaths_enemy[\"GameTime\"], np.arange(1,len(df_deaths_enemy[\"Time\"])+1), label=\"Enemies killed\", linewidth=2.0, color='blue')\n",
    "\n",
    "df_deaths_enemy = df.loc[df[\"Event\"]==\"revived by ally\"]\n",
    "for t in df_deaths_enemy[\"GameTime\"]:\n",
    "    ax.axvline(x=t,color = \"lightblue\")\n",
    "#ax.scatter(df_deaths_enemy[\"GameTime\"], np.arange(1,len(df_deaths_enemy[\"Time\"])+1), label=\"Enemies killed\", linewidth=2.0, color='lightblue')\n",
    "\n",
    "df_deaths_enemy = df.loc[df[\"Event\"]==\"downed\"]\n",
    "for t in df_deaths_enemy[\"GameTime\"]:\n",
    "    ax.axvline(x=t, color = \"black\")\n",
    "#ax.scatter(df_deaths_enemy[\"GameTime\"], np.arange(1,len(df_deaths_enemy[\"Time\"])+1), label=\"Enemies killed\", linewidth=2.0, color='black')"
   ]
  },
  {
   "cell_type": "code",
   "execution_count": null,
   "id": "biblical-vehicle",
   "metadata": {},
   "outputs": [],
   "source": []
  }
 ],
 "metadata": {
  "kernelspec": {
   "display_name": "Python 3",
   "language": "python",
   "name": "python3"
  },
  "language_info": {
   "codemirror_mode": {
    "name": "ipython",
    "version": 3
   },
   "file_extension": ".py",
   "mimetype": "text/x-python",
   "name": "python",
   "nbconvert_exporter": "python",
   "pygments_lexer": "ipython3",
   "version": "3.9.2"
  }
 },
 "nbformat": 4,
 "nbformat_minor": 5
}
